{
 "cells": [
  {
   "cell_type": "markdown",
   "id": "aedf9c89",
   "metadata": {},
   "source": [
    "# Import data"
   ]
  },
  {
   "cell_type": "code",
   "execution_count": 1,
   "id": "ec1da911",
   "metadata": {
    "scrolled": true
   },
   "outputs": [],
   "source": [
    "import requests\n",
    "import pandas as pd\n",
    "import numpy as np"
   ]
  },
  {
   "cell_type": "code",
   "execution_count": 2,
   "id": "dc452366",
   "metadata": {
    "scrolled": true
   },
   "outputs": [],
   "source": [
    "data = pd.read_csv('data_bin_label.csv')\n",
    "data.drop(columns = 'Rating', inplace = True)"
   ]
  },
  {
   "cell_type": "raw",
   "id": "463ee9ae",
   "metadata": {},
   "source": [
    "The key to making a great smelling blend is by balancing aroma notes. Generally, middle notes make up about 50-75% of the blend, top notes make up about 20-40% of the blend, and base notes make up about 5-10%."
   ]
  },
  {
   "cell_type": "markdown",
   "id": "29f68ef5",
   "metadata": {},
   "source": [
    "# Analysis of ratings"
   ]
  },
  {
   "cell_type": "code",
   "execution_count": null,
   "id": "0998c881",
   "metadata": {},
   "outputs": [],
   "source": []
  },
  {
   "cell_type": "code",
   "execution_count": 3,
   "id": "6263a550",
   "metadata": {},
   "outputs": [
    {
     "data": {
      "text/plain": [
       "0.5979462875197472"
      ]
     },
     "execution_count": 3,
     "metadata": {},
     "output_type": "execute_result"
    }
   ],
   "source": [
    "# Mean of the ratings \n",
    "mean_rating = data['rating'].mean()\n",
    "mean_rating"
   ]
  },
  {
   "cell_type": "code",
   "execution_count": 4,
   "id": "65018d06",
   "metadata": {
    "scrolled": true
   },
   "outputs": [
    {
     "data": {
      "text/plain": [
       "array([[<AxesSubplot:title={'center':'rating'}>]], dtype=object)"
      ]
     },
     "execution_count": 4,
     "metadata": {},
     "output_type": "execute_result"
    },
    {
     "data": {
      "image/png": "[encoded data removed]",
      "text/plain": [
       "<Figure size 640x480 with 1 Axes>"
      ]
     },
     "metadata": {},
     "output_type": "display_data"
    }
   ],
   "source": [
    "# Distribution of the ratings \n",
    "import pandas as pd\n",
    "import numpy as np\n",
    "import matplotlib.pyplot as plt\n",
    "\n",
    "data.hist(column='rating')"
   ]
  },
  {
   "cell_type": "markdown",
   "id": "44a1ff4a",
   "metadata": {},
   "source": [
    "# Analysis of olfactory notes"
   ]
  },
  {
   "cell_type": "code",
   "execution_count": 5,
   "id": "dc545914",
   "metadata": {
    "scrolled": true
   },
   "outputs": [
    {
     "data": {
      "text/html": [
       "<div>\n",
       "<style scoped>\n",
       "    .dataframe tbody tr th:only-of-type {\n",
       "        vertical-align: middle;\n",
       "    }\n",
       "\n",
       "    .dataframe tbody tr th {\n",
       "        vertical-align: top;\n",
       "    }\n",
       "\n",
       "    .dataframe thead th {\n",
       "        text-align: right;\n",
       "    }\n",
       "</style>\n",
       "<table border=\"1\" class=\"dataframe\">\n",
       "  <thead>\n",
       "    <tr style=\"text-align: right;\">\n",
       "      <th></th>\n",
       "      <th>occurence</th>\n",
       "    </tr>\n",
       "  </thead>\n",
       "  <tbody>\n",
       "    <tr>\n",
       "      <th>Absinthe_top</th>\n",
       "      <td>0.8</td>\n",
       "    </tr>\n",
       "    <tr>\n",
       "      <th>Absolute_base</th>\n",
       "      <td>0.5</td>\n",
       "    </tr>\n",
       "    <tr>\n",
       "      <th>Absolute_middle</th>\n",
       "      <td>1.4</td>\n",
       "    </tr>\n",
       "    <tr>\n",
       "      <th>Absolute_top</th>\n",
       "      <td>0.2</td>\n",
       "    </tr>\n",
       "    <tr>\n",
       "      <th>Accord_base</th>\n",
       "      <td>0.1</td>\n",
       "    </tr>\n",
       "    <tr>\n",
       "      <th>...</th>\n",
       "      <td>...</td>\n",
       "    </tr>\n",
       "    <tr>\n",
       "      <th>Ylangtincture_top</th>\n",
       "      <td>0.2</td>\n",
       "    </tr>\n",
       "    <tr>\n",
       "      <th>Yuzu_middle</th>\n",
       "      <td>0.7</td>\n",
       "    </tr>\n",
       "    <tr>\n",
       "      <th>Yuzu_top</th>\n",
       "      <td>6.8</td>\n",
       "    </tr>\n",
       "    <tr>\n",
       "      <th>Zefir_top</th>\n",
       "      <td>0.4</td>\n",
       "    </tr>\n",
       "    <tr>\n",
       "      <th>Zest_top</th>\n",
       "      <td>0.8</td>\n",
       "    </tr>\n",
       "  </tbody>\n",
       "</table>\n",
       "<p>1935 rows × 1 columns</p>\n",
       "</div>"
      ],
      "text/plain": [
       "                   occurence\n",
       "Absinthe_top             0.8\n",
       "Absolute_base            0.5\n",
       "Absolute_middle          1.4\n",
       "Absolute_top             0.2\n",
       "Accord_base              0.1\n",
       "...                      ...\n",
       "Ylangtincture_top        0.2\n",
       "Yuzu_middle              0.7\n",
       "Yuzu_top                 6.8\n",
       "Zefir_top                0.4\n",
       "Zest_top                 0.8\n",
       "\n",
       "[1935 rows x 1 columns]"
      ]
     },
     "execution_count": 5,
     "metadata": {},
     "output_type": "execute_result"
    }
   ],
   "source": [
    "# Count the ocurence of each olfactory notes\n",
    "count = data.sum(axis=0)\n",
    "df_count_occurrence_notes = pd.DataFrame(count)\n",
    "df_count_occurrence_notes = df_count_occurrence_notes.drop(\"rating\")\n",
    "df_count_occurrence_notes.columns = ['occurence']\n",
    "df_count_occurrence_notes"
   ]
  },
  {
   "cell_type": "code",
   "execution_count": 6,
   "id": "b07d5842",
   "metadata": {},
   "outputs": [
    {
     "data": {
      "text/html": [
       "<div>\n",
       "<style scoped>\n",
       "    .dataframe tbody tr th:only-of-type {\n",
       "        vertical-align: middle;\n",
       "    }\n",
       "\n",
       "    .dataframe tbody tr th {\n",
       "        vertical-align: top;\n",
       "    }\n",
       "\n",
       "    .dataframe thead th {\n",
       "        text-align: right;\n",
       "    }\n",
       "</style>\n",
       "<table border=\"1\" class=\"dataframe\">\n",
       "  <thead>\n",
       "    <tr style=\"text-align: right;\">\n",
       "      <th></th>\n",
       "      <th>occurence</th>\n",
       "    </tr>\n",
       "  </thead>\n",
       "  <tbody>\n",
       "    <tr>\n",
       "      <th>Absinthe_top</th>\n",
       "      <td>0.8</td>\n",
       "    </tr>\n",
       "    <tr>\n",
       "      <th>Absolute_base</th>\n",
       "      <td>0.5</td>\n",
       "    </tr>\n",
       "    <tr>\n",
       "      <th>Absolute_middle</th>\n",
       "      <td>1.4</td>\n",
       "    </tr>\n",
       "    <tr>\n",
       "      <th>Absolute_top</th>\n",
       "      <td>0.2</td>\n",
       "    </tr>\n",
       "    <tr>\n",
       "      <th>Accord_base</th>\n",
       "      <td>0.1</td>\n",
       "    </tr>\n",
       "    <tr>\n",
       "      <th>...</th>\n",
       "      <td>...</td>\n",
       "    </tr>\n",
       "    <tr>\n",
       "      <th>Ylangtincture_top</th>\n",
       "      <td>0.2</td>\n",
       "    </tr>\n",
       "    <tr>\n",
       "      <th>Yuzu_middle</th>\n",
       "      <td>0.7</td>\n",
       "    </tr>\n",
       "    <tr>\n",
       "      <th>Yuzu_top</th>\n",
       "      <td>6.8</td>\n",
       "    </tr>\n",
       "    <tr>\n",
       "      <th>Zefir_top</th>\n",
       "      <td>0.4</td>\n",
       "    </tr>\n",
       "    <tr>\n",
       "      <th>Zest_top</th>\n",
       "      <td>0.8</td>\n",
       "    </tr>\n",
       "  </tbody>\n",
       "</table>\n",
       "<p>1935 rows × 1 columns</p>\n",
       "</div>"
      ],
      "text/plain": [
       "                   occurence\n",
       "Absinthe_top             0.8\n",
       "Absolute_base            0.5\n",
       "Absolute_middle          1.4\n",
       "Absolute_top             0.2\n",
       "Accord_base              0.1\n",
       "...                      ...\n",
       "Ylangtincture_top        0.2\n",
       "Yuzu_middle              0.7\n",
       "Yuzu_top                 6.8\n",
       "Zefir_top                0.4\n",
       "Zest_top                 0.8\n",
       "\n",
       "[1935 rows x 1 columns]"
      ]
     },
     "execution_count": 6,
     "metadata": {},
     "output_type": "execute_result"
    }
   ],
   "source": [
    "df_count_occurrence_notes"
   ]
  },
  {
   "cell_type": "code",
   "execution_count": 7,
   "id": "7e119997",
   "metadata": {},
   "outputs": [
    {
     "data": {
      "text/plain": [
       "1935"
      ]
     },
     "execution_count": 7,
     "metadata": {},
     "output_type": "execute_result"
    }
   ],
   "source": [
    "# Check number of olfactory notes\n",
    "len(df_count_occurrence_notes)"
   ]
  },
  {
   "cell_type": "code",
   "execution_count": 8,
   "id": "0db5d0bd",
   "metadata": {},
   "outputs": [
    {
     "data": {
      "text/html": [
       "<div>\n",
       "<style scoped>\n",
       "    .dataframe tbody tr th:only-of-type {\n",
       "        vertical-align: middle;\n",
       "    }\n",
       "\n",
       "    .dataframe tbody tr th {\n",
       "        vertical-align: top;\n",
       "    }\n",
       "\n",
       "    .dataframe thead th {\n",
       "        text-align: right;\n",
       "    }\n",
       "</style>\n",
       "<table border=\"1\" class=\"dataframe\">\n",
       "  <thead>\n",
       "    <tr style=\"text-align: right;\">\n",
       "      <th></th>\n",
       "      <th>occurence</th>\n",
       "    </tr>\n",
       "  </thead>\n",
       "  <tbody>\n",
       "    <tr>\n",
       "      <th>Himalayan_base</th>\n",
       "      <td>0.1</td>\n",
       "    </tr>\n",
       "    <tr>\n",
       "      <th>Tahitian vanilla_base</th>\n",
       "      <td>0.1</td>\n",
       "    </tr>\n",
       "    <tr>\n",
       "      <th>Cappuccino_base</th>\n",
       "      <td>0.1</td>\n",
       "    </tr>\n",
       "    <tr>\n",
       "      <th>Candy_base</th>\n",
       "      <td>0.1</td>\n",
       "    </tr>\n",
       "    <tr>\n",
       "      <th>Lichen_base</th>\n",
       "      <td>0.1</td>\n",
       "    </tr>\n",
       "    <tr>\n",
       "      <th>...</th>\n",
       "      <td>...</td>\n",
       "    </tr>\n",
       "    <tr>\n",
       "      <th>Bergamot_top</th>\n",
       "      <td>346.4</td>\n",
       "    </tr>\n",
       "    <tr>\n",
       "      <th>Valley_middle</th>\n",
       "      <td>384.3</td>\n",
       "    </tr>\n",
       "    <tr>\n",
       "      <th>Lily-of-the-_middle</th>\n",
       "      <td>393.4</td>\n",
       "    </tr>\n",
       "    <tr>\n",
       "      <th>Rose_middle</th>\n",
       "      <td>973.0</td>\n",
       "    </tr>\n",
       "    <tr>\n",
       "      <th>Jasmine_middle</th>\n",
       "      <td>1155.7</td>\n",
       "    </tr>\n",
       "  </tbody>\n",
       "</table>\n",
       "<p>1935 rows × 1 columns</p>\n",
       "</div>"
      ],
      "text/plain": [
       "                       occurence\n",
       "Himalayan_base               0.1\n",
       "Tahitian vanilla_base        0.1\n",
       "Cappuccino_base              0.1\n",
       "Candy_base                   0.1\n",
       "Lichen_base                  0.1\n",
       "...                          ...\n",
       "Bergamot_top               346.4\n",
       "Valley_middle              384.3\n",
       "Lily-of-the-_middle        393.4\n",
       "Rose_middle                973.0\n",
       "Jasmine_middle            1155.7\n",
       "\n",
       "[1935 rows x 1 columns]"
      ]
     },
     "execution_count": 8,
     "metadata": {},
     "output_type": "execute_result"
    }
   ],
   "source": [
    "# Occurence of each olfactory notes sorted\n",
    "df_count_occurrence_notes['occurence'] = pd.to_numeric(df_count_occurrence_notes['occurence'])\n",
    "df_count_occurrence_notes = df_count_occurrence_notes.sort_values('occurence')\n",
    "df_count_occurrence_notes"
   ]
  },
  {
   "cell_type": "code",
   "execution_count": 9,
   "id": "7cb70715",
   "metadata": {},
   "outputs": [],
   "source": [
    "# Distribution of the number of occurence of olfactory notes\n",
    "#dis_ol = df_count_occurrence_notes\n",
    "#plt.hist(dis_ol, bins=150, range = (0,5));\n",
    "# Conclusion: most of the olfactory notes appear few times (between 0 and 25 times)"
   ]
  },
  {
   "cell_type": "code",
   "execution_count": 10,
   "id": "625c8ef7",
   "metadata": {},
   "outputs": [
    {
     "data": {
      "text/plain": [
       "occurence\n",
       "True     1244\n",
       "False     691\n",
       "dtype: int64"
      ]
     },
     "execution_count": 10,
     "metadata": {},
     "output_type": "execute_result"
    }
   ],
   "source": [
    "df_count_occurrence_notes.value_counts(df_count_occurrence_notes['occurence'] < 1.8)"
   ]
  },
  {
   "cell_type": "code",
   "execution_count": 11,
   "id": "f79166c1",
   "metadata": {},
   "outputs": [
    {
     "name": "stdout",
     "output_type": "stream",
     "text": [
      "      African orange flower_middle  African_middle  African_top  \\\n",
      "0                              0.0             0.0          0.0   \n",
      "1                              0.0             0.0          0.0   \n",
      "2                              0.0             0.0          0.0   \n",
      "3                              0.0             0.0          0.0   \n",
      "4                              0.0             0.0          0.0   \n",
      "...                            ...             ...          ...   \n",
      "3793                           0.0             0.0          0.0   \n",
      "3794                           0.0             0.0          0.0   \n",
      "3795                           0.0             0.0          0.0   \n",
      "3796                           0.0             0.0          0.0   \n",
      "3797                           0.0             0.0          0.0   \n",
      "\n",
      "      Agarwood oud_middle  Agarwood_base  Agarwood_middle  Aldehydes_middle  \\\n",
      "0                     0.0            0.0              0.0               0.0   \n",
      "1                     0.0            0.0              0.0               0.0   \n",
      "2                     0.0            0.0              0.0               0.0   \n",
      "3                     0.0            0.0              0.0               0.0   \n",
      "4                     0.0            0.0              0.0               0.0   \n",
      "...                   ...            ...              ...               ...   \n",
      "3793                  0.0            0.0              0.0               0.0   \n",
      "3794                  0.0            0.0              0.0               0.0   \n",
      "3795                  0.0            0.0              0.0               0.0   \n",
      "3796                  0.0            0.0              0.0               0.0   \n",
      "3797                  0.0            0.0              0.0               0.0   \n",
      "\n",
      "      Aldehydes_top  Allspice_middle  Almond_base  ...  Wormwood_top  \\\n",
      "0               0.0              0.0          0.0  ...           0.0   \n",
      "1               0.0              0.0          0.0  ...           0.0   \n",
      "2               0.0              0.0          0.0  ...           0.0   \n",
      "3               0.0              0.0          0.0  ...           0.0   \n",
      "4               0.0              0.0          0.0  ...           0.0   \n",
      "...             ...              ...          ...  ...           ...   \n",
      "3793            0.0              0.0          0.0  ...           0.0   \n",
      "3794            0.0              0.0          0.0  ...           0.0   \n",
      "3795            0.0              0.0          0.0  ...           0.0   \n",
      "3796            0.0              0.0          0.0  ...           0.0   \n",
      "3797            0.0              0.0          0.0  ...           0.0   \n",
      "\n",
      "      Yellow_middle  Ylang-_middle  Ylang-_top  Ylang-ylang_middle  \\\n",
      "0               0.0            0.0         0.0                 0.0   \n",
      "1               0.0            0.0         0.0                 0.0   \n",
      "2               0.0            0.0         0.0                 0.0   \n",
      "3               0.0            0.0         0.0                 0.0   \n",
      "4               0.0            0.0         0.0                 0.0   \n",
      "...             ...            ...         ...                 ...   \n",
      "3793            0.0            0.0         0.0                 0.0   \n",
      "3794            0.0            0.0         0.0                 0.0   \n",
      "3795            0.0            0.0         0.0                 0.0   \n",
      "3796            0.0            0.0         0.0                 0.0   \n",
      "3797            0.0            0.0         0.0                 0.0   \n",
      "\n",
      "      Ylang-ylang_top  Ylang_middle  Ylang_top  Ylangiris_middle  Yuzu_top  \n",
      "0                 0.0           0.0        0.0               0.0       0.0  \n",
      "1                 0.0           0.0        0.0               0.0       0.0  \n",
      "2                 0.0           0.0        0.0               0.0       0.0  \n",
      "3                 0.0           0.0        0.0               0.0       0.0  \n",
      "4                 0.0           0.0        0.0               0.0       0.0  \n",
      "...               ...           ...        ...               ...       ...  \n",
      "3793              0.0           0.0        0.0               0.0       0.0  \n",
      "3794              0.0           0.0        0.0               0.0       0.0  \n",
      "3795              0.0           0.0        0.0               0.0       0.0  \n",
      "3796              0.0           0.0        0.0               0.0       0.0  \n",
      "3797              0.0           0.0        0.0               0.0       0.0  \n",
      "\n",
      "[3798 rows x 691 columns]\n"
     ]
    },
    {
     "data": {
      "text/html": [
       "<div>\n",
       "<style scoped>\n",
       "    .dataframe tbody tr th:only-of-type {\n",
       "        vertical-align: middle;\n",
       "    }\n",
       "\n",
       "    .dataframe tbody tr th {\n",
       "        vertical-align: top;\n",
       "    }\n",
       "\n",
       "    .dataframe thead th {\n",
       "        text-align: right;\n",
       "    }\n",
       "</style>\n",
       "<table border=\"1\" class=\"dataframe\">\n",
       "  <thead>\n",
       "    <tr style=\"text-align: right;\">\n",
       "      <th></th>\n",
       "      <th>African orange flower_middle</th>\n",
       "      <th>African_middle</th>\n",
       "      <th>African_top</th>\n",
       "      <th>Agarwood oud_middle</th>\n",
       "      <th>Agarwood_base</th>\n",
       "      <th>Agarwood_middle</th>\n",
       "      <th>Aldehydes_middle</th>\n",
       "      <th>Aldehydes_top</th>\n",
       "      <th>Allspice_middle</th>\n",
       "      <th>Almond_base</th>\n",
       "      <th>...</th>\n",
       "      <th>Wormwood_top</th>\n",
       "      <th>Yellow_middle</th>\n",
       "      <th>Ylang-_middle</th>\n",
       "      <th>Ylang-_top</th>\n",
       "      <th>Ylang-ylang_middle</th>\n",
       "      <th>Ylang-ylang_top</th>\n",
       "      <th>Ylang_middle</th>\n",
       "      <th>Ylang_top</th>\n",
       "      <th>Ylangiris_middle</th>\n",
       "      <th>Yuzu_top</th>\n",
       "    </tr>\n",
       "  </thead>\n",
       "  <tbody>\n",
       "    <tr>\n",
       "      <th>0</th>\n",
       "      <td>0.0</td>\n",
       "      <td>0.0</td>\n",
       "      <td>0.0</td>\n",
       "      <td>0.0</td>\n",
       "      <td>0.0</td>\n",
       "      <td>0.0</td>\n",
       "      <td>0.0</td>\n",
       "      <td>0.0</td>\n",
       "      <td>0.0</td>\n",
       "      <td>0.0</td>\n",
       "      <td>...</td>\n",
       "      <td>0.0</td>\n",
       "      <td>0.0</td>\n",
       "      <td>0.0</td>\n",
       "      <td>0.0</td>\n",
       "      <td>0.0</td>\n",
       "      <td>0.0</td>\n",
       "      <td>0.0</td>\n",
       "      <td>0.0</td>\n",
       "      <td>0.0</td>\n",
       "      <td>0.0</td>\n",
       "    </tr>\n",
       "    <tr>\n",
       "      <th>1</th>\n",
       "      <td>0.0</td>\n",
       "      <td>0.0</td>\n",
       "      <td>0.0</td>\n",
       "      <td>0.0</td>\n",
       "      <td>0.0</td>\n",
       "      <td>0.0</td>\n",
       "      <td>0.0</td>\n",
       "      <td>0.0</td>\n",
       "      <td>0.0</td>\n",
       "      <td>0.0</td>\n",
       "      <td>...</td>\n",
       "      <td>0.0</td>\n",
       "      <td>0.0</td>\n",
       "      <td>0.0</td>\n",
       "      <td>0.0</td>\n",
       "      <td>0.0</td>\n",
       "      <td>0.0</td>\n",
       "      <td>0.0</td>\n",
       "      <td>0.0</td>\n",
       "      <td>0.0</td>\n",
       "      <td>0.0</td>\n",
       "    </tr>\n",
       "    <tr>\n",
       "      <th>2</th>\n",
       "      <td>0.0</td>\n",
       "      <td>0.0</td>\n",
       "      <td>0.0</td>\n",
       "      <td>0.0</td>\n",
       "      <td>0.0</td>\n",
       "      <td>0.0</td>\n",
       "      <td>0.0</td>\n",
       "      <td>0.0</td>\n",
       "      <td>0.0</td>\n",
       "      <td>0.0</td>\n",
       "      <td>...</td>\n",
       "      <td>0.0</td>\n",
       "      <td>0.0</td>\n",
       "      <td>0.0</td>\n",
       "      <td>0.0</td>\n",
       "      <td>0.0</td>\n",
       "      <td>0.0</td>\n",
       "      <td>0.0</td>\n",
       "      <td>0.0</td>\n",
       "      <td>0.0</td>\n",
       "      <td>0.0</td>\n",
       "    </tr>\n",
       "    <tr>\n",
       "      <th>3</th>\n",
       "      <td>0.0</td>\n",
       "      <td>0.0</td>\n",
       "      <td>0.0</td>\n",
       "      <td>0.0</td>\n",
       "      <td>0.0</td>\n",
       "      <td>0.0</td>\n",
       "      <td>0.0</td>\n",
       "      <td>0.0</td>\n",
       "      <td>0.0</td>\n",
       "      <td>0.0</td>\n",
       "      <td>...</td>\n",
       "      <td>0.0</td>\n",
       "      <td>0.0</td>\n",
       "      <td>0.0</td>\n",
       "      <td>0.0</td>\n",
       "      <td>0.0</td>\n",
       "      <td>0.0</td>\n",
       "      <td>0.0</td>\n",
       "      <td>0.0</td>\n",
       "      <td>0.0</td>\n",
       "      <td>0.0</td>\n",
       "    </tr>\n",
       "    <tr>\n",
       "      <th>4</th>\n",
       "      <td>0.0</td>\n",
       "      <td>0.0</td>\n",
       "      <td>0.0</td>\n",
       "      <td>0.0</td>\n",
       "      <td>0.0</td>\n",
       "      <td>0.0</td>\n",
       "      <td>0.0</td>\n",
       "      <td>0.0</td>\n",
       "      <td>0.0</td>\n",
       "      <td>0.0</td>\n",
       "      <td>...</td>\n",
       "      <td>0.0</td>\n",
       "      <td>0.0</td>\n",
       "      <td>0.0</td>\n",
       "      <td>0.0</td>\n",
       "      <td>0.0</td>\n",
       "      <td>0.0</td>\n",
       "      <td>0.0</td>\n",
       "      <td>0.0</td>\n",
       "      <td>0.0</td>\n",
       "      <td>0.0</td>\n",
       "    </tr>\n",
       "    <tr>\n",
       "      <th>...</th>\n",
       "      <td>...</td>\n",
       "      <td>...</td>\n",
       "      <td>...</td>\n",
       "      <td>...</td>\n",
       "      <td>...</td>\n",
       "      <td>...</td>\n",
       "      <td>...</td>\n",
       "      <td>...</td>\n",
       "      <td>...</td>\n",
       "      <td>...</td>\n",
       "      <td>...</td>\n",
       "      <td>...</td>\n",
       "      <td>...</td>\n",
       "      <td>...</td>\n",
       "      <td>...</td>\n",
       "      <td>...</td>\n",
       "      <td>...</td>\n",
       "      <td>...</td>\n",
       "      <td>...</td>\n",
       "      <td>...</td>\n",
       "      <td>...</td>\n",
       "    </tr>\n",
       "    <tr>\n",
       "      <th>3793</th>\n",
       "      <td>0.0</td>\n",
       "      <td>0.0</td>\n",
       "      <td>0.0</td>\n",
       "      <td>0.0</td>\n",
       "      <td>0.0</td>\n",
       "      <td>0.0</td>\n",
       "      <td>0.0</td>\n",
       "      <td>0.0</td>\n",
       "      <td>0.0</td>\n",
       "      <td>0.0</td>\n",
       "      <td>...</td>\n",
       "      <td>0.0</td>\n",
       "      <td>0.0</td>\n",
       "      <td>0.0</td>\n",
       "      <td>0.0</td>\n",
       "      <td>0.0</td>\n",
       "      <td>0.0</td>\n",
       "      <td>0.0</td>\n",
       "      <td>0.0</td>\n",
       "      <td>0.0</td>\n",
       "      <td>0.0</td>\n",
       "    </tr>\n",
       "    <tr>\n",
       "      <th>3794</th>\n",
       "      <td>0.0</td>\n",
       "      <td>0.0</td>\n",
       "      <td>0.0</td>\n",
       "      <td>0.0</td>\n",
       "      <td>0.0</td>\n",
       "      <td>0.0</td>\n",
       "      <td>0.0</td>\n",
       "      <td>0.0</td>\n",
       "      <td>0.0</td>\n",
       "      <td>0.0</td>\n",
       "      <td>...</td>\n",
       "      <td>0.0</td>\n",
       "      <td>0.0</td>\n",
       "      <td>0.0</td>\n",
       "      <td>0.0</td>\n",
       "      <td>0.0</td>\n",
       "      <td>0.0</td>\n",
       "      <td>0.0</td>\n",
       "      <td>0.0</td>\n",
       "      <td>0.0</td>\n",
       "      <td>0.0</td>\n",
       "    </tr>\n",
       "    <tr>\n",
       "      <th>3795</th>\n",
       "      <td>0.0</td>\n",
       "      <td>0.0</td>\n",
       "      <td>0.0</td>\n",
       "      <td>0.0</td>\n",
       "      <td>0.0</td>\n",
       "      <td>0.0</td>\n",
       "      <td>0.0</td>\n",
       "      <td>0.0</td>\n",
       "      <td>0.0</td>\n",
       "      <td>0.0</td>\n",
       "      <td>...</td>\n",
       "      <td>0.0</td>\n",
       "      <td>0.0</td>\n",
       "      <td>0.0</td>\n",
       "      <td>0.0</td>\n",
       "      <td>0.0</td>\n",
       "      <td>0.0</td>\n",
       "      <td>0.0</td>\n",
       "      <td>0.0</td>\n",
       "      <td>0.0</td>\n",
       "      <td>0.0</td>\n",
       "    </tr>\n",
       "    <tr>\n",
       "      <th>3796</th>\n",
       "      <td>0.0</td>\n",
       "      <td>0.0</td>\n",
       "      <td>0.0</td>\n",
       "      <td>0.0</td>\n",
       "      <td>0.0</td>\n",
       "      <td>0.0</td>\n",
       "      <td>0.0</td>\n",
       "      <td>0.0</td>\n",
       "      <td>0.0</td>\n",
       "      <td>0.0</td>\n",
       "      <td>...</td>\n",
       "      <td>0.0</td>\n",
       "      <td>0.0</td>\n",
       "      <td>0.0</td>\n",
       "      <td>0.0</td>\n",
       "      <td>0.0</td>\n",
       "      <td>0.0</td>\n",
       "      <td>0.0</td>\n",
       "      <td>0.0</td>\n",
       "      <td>0.0</td>\n",
       "      <td>0.0</td>\n",
       "    </tr>\n",
       "    <tr>\n",
       "      <th>3797</th>\n",
       "      <td>0.0</td>\n",
       "      <td>0.0</td>\n",
       "      <td>0.0</td>\n",
       "      <td>0.0</td>\n",
       "      <td>0.0</td>\n",
       "      <td>0.0</td>\n",
       "      <td>0.0</td>\n",
       "      <td>0.0</td>\n",
       "      <td>0.0</td>\n",
       "      <td>0.0</td>\n",
       "      <td>...</td>\n",
       "      <td>0.0</td>\n",
       "      <td>0.0</td>\n",
       "      <td>0.0</td>\n",
       "      <td>0.0</td>\n",
       "      <td>0.0</td>\n",
       "      <td>0.0</td>\n",
       "      <td>0.0</td>\n",
       "      <td>0.0</td>\n",
       "      <td>0.0</td>\n",
       "      <td>0.0</td>\n",
       "    </tr>\n",
       "  </tbody>\n",
       "</table>\n",
       "<p>3797 rows × 691 columns</p>\n",
       "</div>"
      ],
      "text/plain": [
       "      African orange flower_middle  African_middle  African_top  \\\n",
       "0                              0.0             0.0          0.0   \n",
       "1                              0.0             0.0          0.0   \n",
       "2                              0.0             0.0          0.0   \n",
       "3                              0.0             0.0          0.0   \n",
       "4                              0.0             0.0          0.0   \n",
       "...                            ...             ...          ...   \n",
       "3793                           0.0             0.0          0.0   \n",
       "3794                           0.0             0.0          0.0   \n",
       "3795                           0.0             0.0          0.0   \n",
       "3796                           0.0             0.0          0.0   \n",
       "3797                           0.0             0.0          0.0   \n",
       "\n",
       "      Agarwood oud_middle  Agarwood_base  Agarwood_middle  Aldehydes_middle  \\\n",
       "0                     0.0            0.0              0.0               0.0   \n",
       "1                     0.0            0.0              0.0               0.0   \n",
       "2                     0.0            0.0              0.0               0.0   \n",
       "3                     0.0            0.0              0.0               0.0   \n",
       "4                     0.0            0.0              0.0               0.0   \n",
       "...                   ...            ...              ...               ...   \n",
       "3793                  0.0            0.0              0.0               0.0   \n",
       "3794                  0.0            0.0              0.0               0.0   \n",
       "3795                  0.0            0.0              0.0               0.0   \n",
       "3796                  0.0            0.0              0.0               0.0   \n",
       "3797                  0.0            0.0              0.0               0.0   \n",
       "\n",
       "      Aldehydes_top  Allspice_middle  Almond_base  ...  Wormwood_top  \\\n",
       "0               0.0              0.0          0.0  ...           0.0   \n",
       "1               0.0              0.0          0.0  ...           0.0   \n",
       "2               0.0              0.0          0.0  ...           0.0   \n",
       "3               0.0              0.0          0.0  ...           0.0   \n",
       "4               0.0              0.0          0.0  ...           0.0   \n",
       "...             ...              ...          ...  ...           ...   \n",
       "3793            0.0              0.0          0.0  ...           0.0   \n",
       "3794            0.0              0.0          0.0  ...           0.0   \n",
       "3795            0.0              0.0          0.0  ...           0.0   \n",
       "3796            0.0              0.0          0.0  ...           0.0   \n",
       "3797            0.0              0.0          0.0  ...           0.0   \n",
       "\n",
       "      Yellow_middle  Ylang-_middle  Ylang-_top  Ylang-ylang_middle  \\\n",
       "0               0.0            0.0         0.0                 0.0   \n",
       "1               0.0            0.0         0.0                 0.0   \n",
       "2               0.0            0.0         0.0                 0.0   \n",
       "3               0.0            0.0         0.0                 0.0   \n",
       "4               0.0            0.0         0.0                 0.0   \n",
       "...             ...            ...         ...                 ...   \n",
       "3793            0.0            0.0         0.0                 0.0   \n",
       "3794            0.0            0.0         0.0                 0.0   \n",
       "3795            0.0            0.0         0.0                 0.0   \n",
       "3796            0.0            0.0         0.0                 0.0   \n",
       "3797            0.0            0.0         0.0                 0.0   \n",
       "\n",
       "      Ylang-ylang_top  Ylang_middle  Ylang_top  Ylangiris_middle  Yuzu_top  \n",
       "0                 0.0           0.0        0.0               0.0       0.0  \n",
       "1                 0.0           0.0        0.0               0.0       0.0  \n",
       "2                 0.0           0.0        0.0               0.0       0.0  \n",
       "3                 0.0           0.0        0.0               0.0       0.0  \n",
       "4                 0.0           0.0        0.0               0.0       0.0  \n",
       "...               ...           ...        ...               ...       ...  \n",
       "3793              0.0           0.0        0.0               0.0       0.0  \n",
       "3794              0.0           0.0        0.0               0.0       0.0  \n",
       "3795              0.0           0.0        0.0               0.0       0.0  \n",
       "3796              0.0           0.0        0.0               0.0       0.0  \n",
       "3797              0.0           0.0        0.0               0.0       0.0  \n",
       "\n",
       "[3797 rows x 691 columns]"
      ]
     },
     "execution_count": 11,
     "metadata": {},
     "output_type": "execute_result"
    }
   ],
   "source": [
    "# Drop some olfactory notes\n",
    "df_count_1 = df_count_occurrence_notes[df_count_occurrence_notes['occurence'] < 1.8]\n",
    "index_list = df_count_1.index.values.tolist()\n",
    "data_t = data.drop(index_list, axis=1)\n",
    "data_test = data_t.drop(columns = 'rating')\n",
    "print(data_test)\n",
    "data_test.loc[~(data_test==0.0).all(axis=1)]"
   ]
  },
  {
   "cell_type": "markdown",
   "id": "0c503d10",
   "metadata": {},
   "source": [
    "# Model (cross-validation)  (Step 1)"
   ]
  },
  {
   "cell_type": "markdown",
   "id": "668671c0",
   "metadata": {},
   "source": [
    "## Decision Tree (baseline)"
   ]
  },
  {
   "cell_type": "code",
   "execution_count": 12,
   "id": "cdbaf9a3",
   "metadata": {
    "scrolled": true
   },
   "outputs": [],
   "source": [
    "#y_cv.value_counts(normalize=True)"
   ]
  },
  {
   "cell_type": "code",
   "execution_count": 13,
   "id": "202c4b8d",
   "metadata": {},
   "outputs": [],
   "source": [
    "#y_test_rf.value_counts(normalize=True)\n",
    "#, y_test_rf"
   ]
  },
  {
   "cell_type": "code",
   "execution_count": 14,
   "id": "48174954",
   "metadata": {},
   "outputs": [],
   "source": [
    "from sklearn.preprocessing import LabelEncoder\n",
    "from sklearn.model_selection import cross_validate\n",
    "from sklearn.tree import DecisionTreeClassifier\n",
    "\n",
    "# Preparation X and y\n",
    "\n",
    "data_cv = data.copy()\n",
    "\n",
    "y_cv = data_cv['rating']\n",
    "\n",
    "X_cv = data_cv.drop(columns=['rating'])"
   ]
  },
  {
   "cell_type": "code",
   "execution_count": 15,
   "id": "46084d42",
   "metadata": {},
   "outputs": [
    {
     "data": {
      "text/plain": [
       "0       1\n",
       "1       0\n",
       "2       1\n",
       "3       0\n",
       "4       1\n",
       "       ..\n",
       "3793    1\n",
       "3794    1\n",
       "3795    1\n",
       "3796    0\n",
       "3797    1\n",
       "Name: rating, Length: 3798, dtype: int64"
      ]
     },
     "execution_count": 15,
     "metadata": {},
     "output_type": "execute_result"
    }
   ],
   "source": [
    "data_cv['rating']"
   ]
  },
  {
   "cell_type": "code",
   "execution_count": 16,
   "id": "e3decf48",
   "metadata": {},
   "outputs": [
    {
     "data": {
      "text/plain": [
       "0.6037428056306775"
      ]
     },
     "execution_count": 16,
     "metadata": {},
     "output_type": "execute_result"
    }
   ],
   "source": [
    "# Decision Tree Classifier\n",
    "\n",
    "tree_cv = DecisionTreeClassifier()\n",
    "\n",
    "cv_results_tree = cross_validate(tree_cv, X_cv, y_cv, scoring = \"accuracy\", cv=5)\n",
    "\n",
    "# Mean of scores\n",
    "cv_results_tree['test_score'].mean()"
   ]
  },
  {
   "cell_type": "markdown",
   "id": "2455b731",
   "metadata": {},
   "source": [
    "## Random Forest "
   ]
  },
  {
   "cell_type": "code",
   "execution_count": null,
   "id": "79fe724f",
   "metadata": {},
   "outputs": [],
   "source": [
    "from sklearn.ensemble import RandomForestClassifier\n",
    "from sklearn.model_selection import cross_validate\n",
    "\n",
    "rf_cv = RandomForestClassifier()\n",
    "\n",
    "cv_results_forest = cross_validate(rf_cv, X_cv, y_cv, scoring = \"accuracy\", cv=5)\n",
    "\n",
    "# Mean of scores\n",
    "cv_results_forest['test_score'].mean()"
   ]
  },
  {
   "cell_type": "markdown",
   "id": "9c8ac493",
   "metadata": {},
   "source": [
    "## CatBoostClassifier"
   ]
  },
  {
   "cell_type": "code",
   "execution_count": null,
   "id": "c8d88a46",
   "metadata": {},
   "outputs": [],
   "source": [
    "from catboost import CatBoostClassifier\n",
    "\n",
    "cat_cv = CatBoostClassifier()\n",
    "\n",
    "cv_results_cat = cross_validate(cat_cv, X_cv, y_cv, scoring = \"accuracy\", cv=5)\n",
    "\n",
    "# Mean of scores\n",
    "cv_results_cat['test_score'].mean()"
   ]
  },
  {
   "cell_type": "markdown",
   "id": "d69c8944",
   "metadata": {},
   "source": [
    "## Result of the cross-validations (various models)"
   ]
  },
  {
   "cell_type": "code",
   "execution_count": null,
   "id": "e82cf831",
   "metadata": {},
   "outputs": [],
   "source": [
    "final_scores_models = {}"
   ]
  },
  {
   "cell_type": "code",
   "execution_count": null,
   "id": "f7ff65f7",
   "metadata": {},
   "outputs": [],
   "source": [
    "final_scores_models[\"Decision Tree\"] = cv_results_tree['test_score'].mean()\n",
    "\n",
    "final_scores_models[\"Random Forest\"] = cv_results_forest['test_score'].mean()\n",
    "\n",
    "final_scores_models[\"CatBoostClassifier\"] = cv_results_cat['test_score'].mean()\n",
    "\n",
    "final_scores_models = sorted(final_scores_models.items(), key = lambda x: x[1], reverse=True)"
   ]
  },
  {
   "cell_type": "code",
   "execution_count": null,
   "id": "8eaaccb2",
   "metadata": {},
   "outputs": [],
   "source": [
    "final_scores_models"
   ]
  },
  {
   "cell_type": "markdown",
   "id": "fc5c4b37",
   "metadata": {},
   "source": [
    "# Model (fitted) (Step 2)"
   ]
  },
  {
   "cell_type": "markdown",
   "id": "3408129e",
   "metadata": {},
   "source": [
    "## Random Forest"
   ]
  },
  {
   "cell_type": "code",
   "execution_count": null,
   "id": "2304bf0c",
   "metadata": {},
   "outputs": [],
   "source": [
    "from sklearn.ensemble import RandomForestClassifier\n",
    "from sklearn.model_selection import train_test_split\n",
    "\n",
    "# Copy data\n",
    "data_rf = data.copy()\n",
    "\n",
    "# Encode target\n",
    "y_rf = data_rf['rating']\n",
    "\n",
    "# Create feature set\n",
    "X_rf = data_rf.drop(columns=['rating'])\n",
    "\n",
    "# Random Forest Classifier\n",
    "rf = RandomForestClassifier() \n",
    "\n",
    "# Ready X's and y's\n",
    "X_train_rf, X_test_rf, y_train_rf, y_test_rf = train_test_split(X_rf, y_rf, test_size=0.3)\n",
    "\n",
    "# Fit the model\n",
    "rf.fit(X_train_rf, y_train_rf)"
   ]
  },
  {
   "cell_type": "code",
   "execution_count": null,
   "id": "b07baea9",
   "metadata": {},
   "outputs": [],
   "source": [
    "X_train_rf"
   ]
  },
  {
   "cell_type": "code",
   "execution_count": null,
   "id": "296c5b56",
   "metadata": {},
   "outputs": [],
   "source": [
    "# Predict\n",
    "y_pred_rf = rf.predict(X_test_rf)\n",
    "with np.printoptions(threshold=np.inf):\n",
    "    \n",
    "    print(y_pred_rf)"
   ]
  },
  {
   "cell_type": "code",
   "execution_count": null,
   "id": "b0be40d3",
   "metadata": {},
   "outputs": [],
   "source": [
    "# using metrics module for accuracy calculation\n",
    "from sklearn import metrics \n",
    "print(\"ACCURACY OF THE MODEL: \", metrics.accuracy_score(y_test_rf, y_pred_rf))"
   ]
  },
  {
   "cell_type": "code",
   "execution_count": null,
   "id": "6e1aeb15",
   "metadata": {},
   "outputs": [],
   "source": [
    "import numpy as np\n",
    "from sklearn.model_selection import learning_curve\n",
    "\n",
    "train_sizes = [25,50,75,100,250,500,750,1000,1150]\n",
    "# Get train scores (R2), train sizes, and validation scores using `learning_curve`\n",
    "train_sizes, train_scores, test_scores = learning_curve(\n",
    "    estimator=RandomForestClassifier(), X=X_rf, y=y_rf, train_sizes=train_sizes, cv=5)\n",
    "\n",
    "# Take the mean of cross-validated train scores and validation scores\n",
    "train_scores_mean = np.mean(train_scores, axis=1)\n",
    "test_scores_mean = np.mean(test_scores, axis=1)\n",
    "plt.plot(train_sizes, train_scores_mean, label = 'Training score')\n",
    "plt.plot(train_sizes, test_scores_mean, label = 'Test score')\n",
    "plt.ylabel('r2 score', fontsize = 14)\n",
    "plt.xlabel('Training set size', fontsize = 14)\n",
    "plt.title('Learning curves', fontsize = 18, y = 1.03)\n",
    "plt.legend()"
   ]
  },
  {
   "cell_type": "markdown",
   "id": "218992ef",
   "metadata": {},
   "source": [
    "## CatBoost classifier"
   ]
  },
  {
   "cell_type": "code",
   "execution_count": null,
   "id": "b4b4f3bc",
   "metadata": {},
   "outputs": [],
   "source": [
    "from catboost import CatBoostClassifier\n",
    "\n",
    "# Copy data\n",
    "data_cat = data.copy()\n",
    "\n",
    "# Encode target\n",
    "y_cat = data_cat['rating']\n",
    "\n",
    "# Create feature set\n",
    "X_cat = data_cat.drop(columns=['rating'])\n",
    "\n",
    "# Initialize CatBoostClassifier\n",
    "cat = CatBoostClassifier()\n",
    "\n",
    "# Ready X's and y's\n",
    "X_train_cat, X_test_cat, y_train_cat, y_test_cat = train_test_split(X_cat, y_cat, test_size=0.3)\n",
    "\n",
    "# Fit the model\n",
    "cat.fit(X_train_cat, y_train_cat)\n"
   ]
  },
  {
   "cell_type": "code",
   "execution_count": null,
   "id": "26b45be5",
   "metadata": {},
   "outputs": [],
   "source": [
    "# Predict\n",
    "y_pred_cat = cat.predict(X_test_cat)\n",
    "y_pred_cat"
   ]
  },
  {
   "cell_type": "code",
   "execution_count": null,
   "id": "36719247",
   "metadata": {},
   "outputs": [],
   "source": [
    "# using metrics module for accuracy calculation\n",
    "print(\"ACCURACY OF THE MODEL: \", metrics.accuracy_score(y_test_cat, y_pred_cat))"
   ]
  },
  {
   "cell_type": "code",
   "execution_count": null,
   "id": "3c376ec6",
   "metadata": {},
   "outputs": [],
   "source": []
  },
  {
   "cell_type": "code",
   "execution_count": null,
   "id": "7ebab44f",
   "metadata": {},
   "outputs": [],
   "source": [
    "from sklearn.linear_model import LogisticRegression\n",
    "clf = LogisticRegression(random_state=0).fit(X_train_rf, y_train_rf)\n",
    "clf.score(X_test_rf,y_test_rf)\n"
   ]
  },
  {
   "cell_type": "code",
   "execution_count": null,
   "id": "c7efd2f6",
   "metadata": {},
   "outputs": [],
   "source": [
    "for index, feat in enumerate(clf.coef_[0]):\n",
    "    if feat > 1:\n",
    "        print(index) "
   ]
  },
  {
   "cell_type": "code",
   "execution_count": null,
   "id": "ea334408",
   "metadata": {},
   "outputs": [],
   "source": [
    "X_train_rf.columns[1415]"
   ]
  },
  {
   "cell_type": "markdown",
   "id": "e2292a9b",
   "metadata": {},
   "source": [
    "# Models fine-tuned"
   ]
  },
  {
   "cell_type": "markdown",
   "id": "e36e1cfc",
   "metadata": {},
   "source": [
    "## Random Forest fine-tuned"
   ]
  },
  {
   "cell_type": "code",
   "execution_count": null,
   "id": "f381304f",
   "metadata": {},
   "outputs": [],
   "source": [
    "from sklearn.preprocessing import LabelEncoder\n",
    "data_rf_tuned = data.copy()\n",
    "\n",
    "# Prepare X and y\n",
    "y_rfc_tuned = data_rf_tuned[\"rating\"]\n",
    "X_rfc_tuned = data_rf_tuned.drop(columns=[\"rating\"])\n",
    "\n",
    "# Random Forest Classifier\n",
    "rfc_tuned = RandomForestClassifier(n_estimators = 130,\n",
    "                                 criterion='gini',\n",
    "                                 random_state=2,\n",
    "                                 n_jobs=3,)\n",
    "                                  #splitter= 'best',\n",
    "                                  #base_estimator=DecisionTreeClassifier())\n",
    "\n",
    "# Ready X’s and y’s\n",
    "X_train_rfc_tuned, X_test_rfc_tuned, y_train_rfc_tuned, y_test_rfc_tuned = train_test_split(X_rfc_tuned, y_rfc_tuned, test_size=0.2)\n",
    "\n",
    "# Fit the model\n",
    "rfc_tuned.fit(X_train_rfc_tuned, y_train_rfc_tuned)\n",
    "\n",
    "\n",
    "#{'criterion': 'gini',\n",
    " #'max_features': 1,\n",
    " #'max_leaf_nodes': 5,\n",
    " #'min_impurity_decrease': 1,\n",
    " #'min_samples_leaf': 2,\n",
    " #'min_samples_split': 2,\n",
    " #'min_weight_fraction_leaf': 0,\n",
    " #'random_state': 1,\n",
    " #'splitter': 'best'}"
   ]
  },
  {
   "cell_type": "code",
   "execution_count": null,
   "id": "03f44295",
   "metadata": {},
   "outputs": [],
   "source": []
  },
  {
   "cell_type": "code",
   "execution_count": null,
   "id": "a3112741",
   "metadata": {},
   "outputs": [],
   "source": [
    "X_test_rfc_tuned.loc[252]"
   ]
  },
  {
   "cell_type": "code",
   "execution_count": null,
   "id": "e82397f9",
   "metadata": {},
   "outputs": [],
   "source": [
    "y_pred_rfc_tuned = rfc_tuned.predict(X_test_rfc_tuned)\n",
    "y_pred_rfc_tuned"
   ]
  },
  {
   "cell_type": "code",
   "execution_count": null,
   "id": "074c3f3e",
   "metadata": {
    "scrolled": true
   },
   "outputs": [],
   "source": [
    "print(\"ACCURACY OF THE MODEL: \", metrics.accuracy_score(y_test_rfc_tuned, y_pred_rfc_tuned))"
   ]
  },
  {
   "cell_type": "code",
   "execution_count": null,
   "id": "08a45e4b",
   "metadata": {},
   "outputs": [],
   "source": [
    "import pickle\n",
    "\n",
    "filename = open('test_model.pkl', 'wb')\n",
    "pickle.dump(rfc_tuned, filename)\n",
    "filename.close()"
   ]
  },
  {
   "cell_type": "code",
   "execution_count": null,
   "id": "d09c5bab",
   "metadata": {},
   "outputs": [],
   "source": [
    "import os  \n",
    "os.makedirs('/Users/philine/code/thibaultdiers/project_fragrance/website_perfume', exist_ok=True)  \n",
    "X_test_rfc_tuned.to_csv('/Users/philine/code/thibaultdiers/project_fragrance/website_perfume/X_test.csv',index=False)"
   ]
  },
  {
   "cell_type": "code",
   "execution_count": null,
   "id": "6785705a",
   "metadata": {},
   "outputs": [],
   "source": [
    "X_t = pd.read_csv('X_test.csv')\n",
    "X_t.iloc[0]"
   ]
  },
  {
   "cell_type": "code",
   "execution_count": null,
   "id": "07d0b757",
   "metadata": {},
   "outputs": [],
   "source": []
  }
 ],
 "metadata": {
  "kernelspec": {
   "display_name": "Python 3 (ipykernel)",
   "language": "python",
   "name": "python3"
  },
  "language_info": {
   "codemirror_mode": {
    "name": "ipython",
    "version": 3
   },
   "file_extension": ".py",
   "mimetype": "text/x-python",
   "name": "python",
   "nbconvert_exporter": "python",
   "pygments_lexer": "ipython3",
   "version": "3.8.12"
  },
  "toc": {
   "base_numbering": 1,
   "nav_menu": {},
   "number_sections": true,
   "sideBar": true,
   "skip_h1_title": false,
   "title_cell": "Table of Contents",
   "title_sidebar": "Contents",
   "toc_cell": false,
   "toc_position": {},
   "toc_section_display": true,
   "toc_window_display": false
  },
  "vscode": {
   "interpreter": {
    "hash": "b8f0de3cb31062e72a6d6d99b51f494c71c985d612444cb548062ffb14be7993"
   }
  }
 },
 "nbformat": 4,
 "nbformat_minor": 5
}
